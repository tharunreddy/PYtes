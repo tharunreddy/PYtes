{
 "cells": [
  {
   "cell_type": "code",
   "execution_count": 110,
   "metadata": {},
   "outputs": [],
   "source": [
    "import pandas as pd"
   ]
  },
  {
   "cell_type": "code",
   "execution_count": 111,
   "metadata": {},
   "outputs": [],
   "source": [
    "df = pd.read_csv('data/points_data_ipl_2018_april_30.csv')\n",
    "df['totalPoints'] = df['battingPoints'] + df['bowlingPoints'] + df['fieldingPoints']\n",
    "\n",
    "groupby_player_team = df.groupby('playerTeam')"
   ]
  },
  {
   "cell_type": "code",
   "execution_count": 112,
   "metadata": {},
   "outputs": [
    {
     "data": {
      "text/plain": [
       "playerTeam\n",
       "csk    [7894, 7898, 7905, 7910, 7913, 7917, 7920, 7923]\n",
       "dd     [7895, 7899, 7902, 7906, 7912, 7915, 7919, 7923]\n",
       "kkr    [7896, 7898, 7903, 7906, 7908, 7911, 7919, 7922]\n",
       "kxp          [7895, 7901, 7905, 7909, 7911, 7915, 7918]\n",
       "mi           [7894, 7900, 7902, 7907, 7914, 7916, 7920]\n",
       "rcb          [7896, 7901, 7904, 7907, 7912, 7917, 7922]\n",
       "rr           [7897, 7899, 7904, 7908, 7910, 7914, 7921]\n",
       "sh     [7897, 7900, 7903, 7909, 7913, 7916, 7918, 7921]\n",
       "Name: matchId, dtype: object"
      ]
     },
     "execution_count": 112,
     "metadata": {},
     "output_type": "execute_result"
    }
   ],
   "source": [
    "matches = groupby_player_team.matchId.unique()\n",
    "matches"
   ]
  },
  {
   "cell_type": "code",
   "execution_count": 114,
   "metadata": {},
   "outputs": [
    {
     "data": {
      "text/html": [
       "<div>\n",
       "<style scoped>\n",
       "    .dataframe tbody tr th:only-of-type {\n",
       "        vertical-align: middle;\n",
       "    }\n",
       "\n",
       "    .dataframe tbody tr th {\n",
       "        vertical-align: top;\n",
       "    }\n",
       "\n",
       "    .dataframe thead th {\n",
       "        text-align: right;\n",
       "    }\n",
       "</style>\n",
       "<table border=\"1\" class=\"dataframe\">\n",
       "  <thead>\n",
       "    <tr style=\"text-align: right;\">\n",
       "      <th></th>\n",
       "      <th>team</th>\n",
       "      <th>played</th>\n",
       "      <th>total_points</th>\n",
       "      <th>ppm</th>\n",
       "    </tr>\n",
       "  </thead>\n",
       "  <tbody>\n",
       "    <tr>\n",
       "      <th>4</th>\n",
       "      <td>mi</td>\n",
       "      <td>7</td>\n",
       "      <td>3656</td>\n",
       "      <td>522.285714</td>\n",
       "    </tr>\n",
       "    <tr>\n",
       "      <th>0</th>\n",
       "      <td>csk</td>\n",
       "      <td>8</td>\n",
       "      <td>4171</td>\n",
       "      <td>521.375000</td>\n",
       "    </tr>\n",
       "    <tr>\n",
       "      <th>7</th>\n",
       "      <td>sh</td>\n",
       "      <td>8</td>\n",
       "      <td>3995</td>\n",
       "      <td>499.375000</td>\n",
       "    </tr>\n",
       "    <tr>\n",
       "      <th>5</th>\n",
       "      <td>rcb</td>\n",
       "      <td>7</td>\n",
       "      <td>3377</td>\n",
       "      <td>482.428571</td>\n",
       "    </tr>\n",
       "    <tr>\n",
       "      <th>1</th>\n",
       "      <td>dd</td>\n",
       "      <td>8</td>\n",
       "      <td>3766</td>\n",
       "      <td>470.750000</td>\n",
       "    </tr>\n",
       "    <tr>\n",
       "      <th>2</th>\n",
       "      <td>kkr</td>\n",
       "      <td>8</td>\n",
       "      <td>3710</td>\n",
       "      <td>463.750000</td>\n",
       "    </tr>\n",
       "    <tr>\n",
       "      <th>3</th>\n",
       "      <td>kxp</td>\n",
       "      <td>7</td>\n",
       "      <td>3211</td>\n",
       "      <td>458.714286</td>\n",
       "    </tr>\n",
       "    <tr>\n",
       "      <th>6</th>\n",
       "      <td>rr</td>\n",
       "      <td>7</td>\n",
       "      <td>2789</td>\n",
       "      <td>398.428571</td>\n",
       "    </tr>\n",
       "  </tbody>\n",
       "</table>\n",
       "</div>"
      ],
      "text/plain": [
       "  team  played  total_points         ppm\n",
       "4   mi       7          3656  522.285714\n",
       "0  csk       8          4171  521.375000\n",
       "7   sh       8          3995  499.375000\n",
       "5  rcb       7          3377  482.428571\n",
       "1   dd       8          3766  470.750000\n",
       "2  kkr       8          3710  463.750000\n",
       "3  kxp       7          3211  458.714286\n",
       "6   rr       7          2789  398.428571"
      ]
     },
     "execution_count": 114,
     "metadata": {},
     "output_type": "execute_result"
    }
   ],
   "source": [
    "points = pd.DataFrame()\n",
    "points['team'] = matches.index\n",
    "points['played'] = [matches[index].size for index in matches.index]\n",
    "points['total_points'] = groupby_player_team.totalPoints.sum().values\n",
    "points['ppm'] = points['total_points']/points['played']\n",
    "points.sort_values(by='ppm', ascending=False)"
   ]
  },
  {
   "cell_type": "markdown",
   "metadata": {},
   "source": [
    "\"ppm\" above is points per match"
   ]
  }
 ],
 "metadata": {
  "kernelspec": {
   "display_name": "Python 3",
   "language": "python",
   "name": "python3"
  },
  "language_info": {
   "codemirror_mode": {
    "name": "ipython",
    "version": 3
   },
   "file_extension": ".py",
   "mimetype": "text/x-python",
   "name": "python",
   "nbconvert_exporter": "python",
   "pygments_lexer": "ipython3",
   "version": "3.6.4"
  }
 },
 "nbformat": 4,
 "nbformat_minor": 2
}
