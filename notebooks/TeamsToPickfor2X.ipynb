{
 "cells": [
  {
   "cell_type": "code",
   "execution_count": 14,
   "metadata": {},
   "outputs": [],
   "source": [
    "import pandas as pd"
   ]
  },
  {
   "cell_type": "code",
   "execution_count": 15,
   "metadata": {},
   "outputs": [],
   "source": [
    "df = pd.read_csv('data/points_data_ipl_2018-05-02.csv')\n",
    "df['totalPoints'] = df['battingPoints'] + df['bowlingPoints'] + df['fieldingPoints']\n"
   ]
  },
  {
   "cell_type": "code",
   "execution_count": 16,
   "metadata": {},
   "outputs": [],
   "source": [
    "groupby_player_team = df.groupby('playerTeam')\n",
    "groupby_player_name = df.groupby('playerName')\n",
    "groupby_match_desc = df.groupby('matchDesc')"
   ]
  },
  {
   "cell_type": "markdown",
   "metadata": {},
   "source": [
    "### Total matches played till now"
   ]
  },
  {
   "cell_type": "code",
   "execution_count": 17,
   "metadata": {},
   "outputs": [
    {
     "data": {
      "text/plain": [
       "playerTeam\n",
       "csk    8\n",
       "dd     9\n",
       "kkr    8\n",
       "kxp    7\n",
       "mi     8\n",
       "rcb    8\n",
       "rr     8\n",
       "sh     8\n",
       "Name: matchId, dtype: int64"
      ]
     },
     "execution_count": 17,
     "metadata": {},
     "output_type": "execute_result"
    }
   ],
   "source": [
    "matches_played = groupby_player_team.matchId.unique().apply(lambda x: len(x))\n",
    "matches_played"
   ]
  },
  {
   "cell_type": "markdown",
   "metadata": {},
   "source": [
    "### Points per match (excluding bonus points and MOM points)"
   ]
  },
  {
   "cell_type": "code",
   "execution_count": 18,
   "metadata": {},
   "outputs": [
    {
     "data": {
      "text/html": [
       "<div>\n",
       "<style scoped>\n",
       "    .dataframe tbody tr th:only-of-type {\n",
       "        vertical-align: middle;\n",
       "    }\n",
       "\n",
       "    .dataframe tbody tr th {\n",
       "        vertical-align: top;\n",
       "    }\n",
       "\n",
       "    .dataframe thead th {\n",
       "        text-align: right;\n",
       "    }\n",
       "</style>\n",
       "<table border=\"1\" class=\"dataframe\">\n",
       "  <thead>\n",
       "    <tr style=\"text-align: right;\">\n",
       "      <th></th>\n",
       "      <th>team</th>\n",
       "      <th>played</th>\n",
       "      <th>total_points</th>\n",
       "      <th>ppm</th>\n",
       "    </tr>\n",
       "  </thead>\n",
       "  <tbody>\n",
       "    <tr>\n",
       "      <th>0</th>\n",
       "      <td>csk</td>\n",
       "      <td>8</td>\n",
       "      <td>4171</td>\n",
       "      <td>521.375000</td>\n",
       "    </tr>\n",
       "    <tr>\n",
       "      <th>4</th>\n",
       "      <td>mi</td>\n",
       "      <td>8</td>\n",
       "      <td>4095</td>\n",
       "      <td>511.875000</td>\n",
       "    </tr>\n",
       "    <tr>\n",
       "      <th>7</th>\n",
       "      <td>sh</td>\n",
       "      <td>8</td>\n",
       "      <td>3995</td>\n",
       "      <td>499.375000</td>\n",
       "    </tr>\n",
       "    <tr>\n",
       "      <th>5</th>\n",
       "      <td>rcb</td>\n",
       "      <td>8</td>\n",
       "      <td>3908</td>\n",
       "      <td>488.500000</td>\n",
       "    </tr>\n",
       "    <tr>\n",
       "      <th>1</th>\n",
       "      <td>dd</td>\n",
       "      <td>9</td>\n",
       "      <td>4200</td>\n",
       "      <td>466.666667</td>\n",
       "    </tr>\n",
       "    <tr>\n",
       "      <th>2</th>\n",
       "      <td>kkr</td>\n",
       "      <td>8</td>\n",
       "      <td>3710</td>\n",
       "      <td>463.750000</td>\n",
       "    </tr>\n",
       "    <tr>\n",
       "      <th>3</th>\n",
       "      <td>kxp</td>\n",
       "      <td>7</td>\n",
       "      <td>3211</td>\n",
       "      <td>458.714286</td>\n",
       "    </tr>\n",
       "    <tr>\n",
       "      <th>6</th>\n",
       "      <td>rr</td>\n",
       "      <td>8</td>\n",
       "      <td>3207</td>\n",
       "      <td>400.875000</td>\n",
       "    </tr>\n",
       "  </tbody>\n",
       "</table>\n",
       "</div>"
      ],
      "text/plain": [
       "  team  played  total_points         ppm\n",
       "0  csk       8          4171  521.375000\n",
       "4   mi       8          4095  511.875000\n",
       "7   sh       8          3995  499.375000\n",
       "5  rcb       8          3908  488.500000\n",
       "1   dd       9          4200  466.666667\n",
       "2  kkr       8          3710  463.750000\n",
       "3  kxp       7          3211  458.714286\n",
       "6   rr       8          3207  400.875000"
      ]
     },
     "execution_count": 18,
     "metadata": {},
     "output_type": "execute_result"
    }
   ],
   "source": [
    "points = pd.DataFrame()\n",
    "points['team'] = matches_played.index\n",
    "points['played'] = matches_played.values\n",
    "points['total_points'] = groupby_player_team.totalPoints.sum().values\n",
    "points['ppm'] = points['total_points']/points['played']\n",
    "points.sort_values(by='ppm', ascending=False)"
   ]
  },
  {
   "cell_type": "markdown",
   "metadata": {},
   "source": [
    "\"ppm\" above is points per match"
   ]
  },
  {
   "cell_type": "markdown",
   "metadata": {},
   "source": [
    "### Top 25 players by points scored"
   ]
  },
  {
   "cell_type": "code",
   "execution_count": 19,
   "metadata": {},
   "outputs": [
    {
     "data": {
      "text/plain": [
       "playerName\n",
       "Rishabh Pant (dd)        660\n",
       "Shane Watson (csk)       649\n",
       "Hardik Pandya (mi)       604\n",
       "Ambati Rayudu (csk)      590\n",
       "Sunil Narine (kkr)       589\n",
       "Kane Williamson (sh)     554\n",
       "Krunal Pandya (mi)       552\n",
       "Virat Kohli (rcb)        548\n",
       "Ms Dhoni (csk)           536\n",
       "Shreyas Iyer (dd)        530\n",
       "Andre Russell (kkr)      513\n",
       "Trent Boult (dd)         504\n",
       "Ab De Villiers (rcb)     496\n",
       "Shakib Al Hasan (sh)     496\n",
       "Dwayne Bravo (csk)       454\n",
       "Lokesh Rahul (kxp)       447\n",
       "Rashid Khan (sh)         446\n",
       "Sanju Samson (rr)        438\n",
       "Dinesh Karthik (kkr)     434\n",
       "Suryakumar Yadav (mi)    432\n",
       "Mayank Markande (mi)     419\n",
       "Quinton De Kock (rcb)    417\n",
       "Umesh Yadav (rcb)        414\n",
       "Chris Gayle (kxp)        413\n",
       "Siddarth Kaul (sh)       413\n",
       "Name: totalPoints, dtype: int64"
      ]
     },
     "execution_count": 19,
     "metadata": {},
     "output_type": "execute_result"
    }
   ],
   "source": [
    "groupby_player_name.totalPoints.sum().sort_values(ascending=False).head(n=25)"
   ]
  },
  {
   "cell_type": "markdown",
   "metadata": {},
   "source": [
    "### Top 10 bowlers"
   ]
  },
  {
   "cell_type": "code",
   "execution_count": 20,
   "metadata": {},
   "outputs": [
    {
     "data": {
      "text/plain": [
       "playerName\n",
       "Trent Boult (dd)        434\n",
       "Siddarth Kaul (sh)      411\n",
       "Mayank Markande (mi)    388\n",
       "Umesh Yadav (rcb)       382\n",
       "Rashid Khan (sh)        373\n",
       "Jasprit Bumrah (mi)     362\n",
       "Hardik Pandya (mi)      360\n",
       "Andrew Tye (kxp)        322\n",
       "Krunal Pandya (mi)      318\n",
       "Sunil Narine (kkr)      299\n",
       "Name: bowlingPoints, dtype: int64"
      ]
     },
     "execution_count": 20,
     "metadata": {},
     "output_type": "execute_result"
    }
   ],
   "source": [
    "groupby_player_name.bowlingPoints.sum().sort_values(ascending=False).head(n=10)"
   ]
  },
  {
   "cell_type": "markdown",
   "metadata": {},
   "source": [
    "### Top 10 Batsmen"
   ]
  },
  {
   "cell_type": "code",
   "execution_count": 21,
   "metadata": {},
   "outputs": [
    {
     "data": {
      "text/plain": [
       "playerName\n",
       "Rishabh Pant (dd)       595\n",
       "Ambati Rayudu (csk)     580\n",
       "Virat Kohli (rcb)       508\n",
       "Kane Williamson (sh)    484\n",
       "Shreyas Iyer (dd)       480\n",
       "Ms Dhoni (csk)          476\n",
       "Ab De Villiers (rcb)    456\n",
       "Shane Watson (csk)      449\n",
       "Sanju Samson (rr)       428\n",
       "Lokesh Rahul (kxp)      417\n",
       "Name: battingPoints, dtype: int64"
      ]
     },
     "execution_count": 21,
     "metadata": {},
     "output_type": "execute_result"
    }
   ],
   "source": [
    "groupby_player_name.battingPoints.sum().sort_values(ascending=False).head(n=10)"
   ]
  },
  {
   "cell_type": "markdown",
   "metadata": {},
   "source": [
    "### Top 10 Fielders"
   ]
  },
  {
   "cell_type": "code",
   "execution_count": 22,
   "metadata": {},
   "outputs": [
    {
     "data": {
      "text/plain": [
       "playerName\n",
       "Quinton De Kock (rcb)    115\n",
       "Ishan Kishan (mi)        100\n",
       "Ravindra Jadeja (csk)    100\n",
       "Jos Buttler (rr)          80\n",
       "Karun Nair (kxp)          80\n",
       "Hardik Pandya (mi)        70\n",
       "Kane Williamson (sh)      70\n",
       "Dinesh Karthik (kkr)      70\n",
       "Trent Boult (dd)          70\n",
       "Rohit Sharma (mi)         70\n",
       "Name: fieldingPoints, dtype: int64"
      ]
     },
     "execution_count": 22,
     "metadata": {},
     "output_type": "execute_result"
    }
   ],
   "source": [
    "groupby_player_name.fieldingPoints.sum().sort_values(ascending=False).head(n=10)"
   ]
  },
  {
   "cell_type": "markdown",
   "metadata": {},
   "source": [
    "### Top 6 players in every team by points"
   ]
  },
  {
   "cell_type": "code",
   "execution_count": 23,
   "metadata": {},
   "outputs": [
    {
     "data": {
      "text/plain": [
       "playerTeam  playerName               \n",
       "csk         Shane Watson (csk)           649\n",
       "            Ambati Rayudu (csk)          590\n",
       "            Ms Dhoni (csk)               536\n",
       "            Dwayne Bravo (csk)           454\n",
       "            Suresh Raina (csk)           354\n",
       "            Shardul Thakur (csk)         272\n",
       "dd          Rishabh Pant (dd)            660\n",
       "            Shreyas Iyer (dd)            530\n",
       "            Trent Boult (dd)             504\n",
       "            Glenn Maxwell (dd)           393\n",
       "            Rahul Tewatia (dd)           303\n",
       "            Prithvi Shaw (dd)            222\n",
       "kkr         Sunil Narine (kkr)           589\n",
       "            Andre Russell (kkr)          513\n",
       "            Dinesh Karthik (kkr)         434\n",
       "            Nitish Rana (kkr)            412\n",
       "            Chris Lynn (kkr)             347\n",
       "            Robin Uthappa (kkr)          340\n",
       "kxp         Lokesh Rahul (kxp)           447\n",
       "            Chris Gayle (kxp)            413\n",
       "            Andrew Tye (kxp)             379\n",
       "            Karun Nair (kxp)             359\n",
       "            Mujeeb Ur Rahman (kxp)       342\n",
       "            Ravichandran Ashwin (kxp)    309\n",
       "mi          Hardik Pandya (mi)           604\n",
       "            Krunal Pandya (mi)           552\n",
       "            Suryakumar Yadav (mi)        432\n",
       "            Mayank Markande (mi)         419\n",
       "            Jasprit Bumrah (mi)          392\n",
       "            Rohit Sharma (mi)            344\n",
       "rcb         Virat Kohli (rcb)            548\n",
       "            Ab De Villiers (rcb)         496\n",
       "            Quinton De Kock (rcb)        417\n",
       "            Umesh Yadav (rcb)            414\n",
       "            Mandeep Singh (rcb)          339\n",
       "            Yuzvendra Chahal (rcb)       306\n",
       "rr          Sanju Samson (rr)            438\n",
       "            Krishnappa Gowtham (rr)      357\n",
       "            Jos Buttler (rr)             354\n",
       "            Ajinkya Rahane (rr)          333\n",
       "            Ben Stokes (rr)              298\n",
       "            Jofra Archer (rr)            245\n",
       "sh          Kane Williamson (sh)         554\n",
       "            Shakib Al Hasan (sh)         496\n",
       "            Rashid Khan (sh)             446\n",
       "            Siddarth Kaul (sh)           413\n",
       "            Manish Pandey (sh)           282\n",
       "            Shikhar Dhawan (sh)          274\n",
       "Name: totalPoints, dtype: int64"
      ]
     },
     "execution_count": 23,
     "metadata": {},
     "output_type": "execute_result"
    }
   ],
   "source": [
    "df_agg = df.groupby(['playerTeam', 'playerName']).agg({\"totalPoints\": sum})\n",
    "res = df_agg['totalPoints'].groupby(level=0, group_keys=False)\n",
    "res.apply(lambda x: x.sort_values(ascending=False)[:6])"
   ]
  },
  {
   "cell_type": "markdown",
   "metadata": {},
   "source": [
    "### Total points scored by all players in a single match \n",
    "\n",
    "If you were able to pick 22 players per match, these are the scores you'll end up with."
   ]
  },
  {
   "cell_type": "code",
   "execution_count": 24,
   "metadata": {},
   "outputs": [
    {
     "data": {
      "text/plain": [
       "matchDesc\n",
       "kkr vs dd     1200\n",
       "sh vs mi      1141\n",
       "rcb vs csk    1090\n",
       "csk vs rr     1073\n",
       "mi vs sh      1060\n",
       "mi vs rcb     1054\n",
       "dd vs kxp     1048\n",
       "csk vs kkr    1033\n",
       "kkr vs rcb    1027\n",
       "dd vs kkr     1016\n",
       "rcb vs kxp    1015\n",
       "sh vs kxp     1006\n",
       "kxp vs csk     997\n",
       "rcb vs mi      970\n",
       "mi vs csk      968\n",
       "kkr vs sh      966\n",
       "rr vs mi       962\n",
       "mi vs dd       948\n",
       "sh vs csk      947\n",
       "rcb vs rr      939\n",
       "rr vs sh       914\n",
       "csk vs dd      900\n",
       "kxp vs dd      899\n",
       "rcb vs kkr     898\n",
       "rr vs kkr      893\n",
       "rcb vs dd      884\n",
       "csk vs mi      857\n",
       "dd vs rr       852\n",
       "kxp vs sh      809\n",
       "sh vs rr       772\n",
       "kkr vs kxp     738\n",
       "rr vs dd       621\n",
       "Name: totalPoints, dtype: int64"
      ]
     },
     "execution_count": 24,
     "metadata": {},
     "output_type": "execute_result"
    }
   ],
   "source": [
    "groupby_match_desc.totalPoints.sum().sort_values(ascending=False)"
   ]
  },
  {
   "cell_type": "code",
   "execution_count": 25,
   "metadata": {},
   "outputs": [
    {
     "data": {
      "text/plain": [
       "count      32.000000\n",
       "mean      953.031250\n",
       "std       118.273462\n",
       "min       621.000000\n",
       "25%       896.750000\n",
       "50%       964.000000\n",
       "75%      1028.500000\n",
       "max      1200.000000\n",
       "Name: totalPoints, dtype: float64"
      ]
     },
     "execution_count": 25,
     "metadata": {},
     "output_type": "execute_result"
    }
   ],
   "source": [
    "groupby_match_desc.totalPoints.sum().describe()"
   ]
  },
  {
   "cell_type": "markdown",
   "metadata": {},
   "source": [
    "### What if you picked top 11 players per match (best case)"
   ]
  },
  {
   "cell_type": "code",
   "execution_count": 26,
   "metadata": {},
   "outputs": [
    {
     "data": {
      "text/plain": [
       "matchDesc\n",
       "csk vs dd     804\n",
       "csk vs kkr    831\n",
       "csk vs mi     726\n",
       "csk vs rr     913\n",
       "dd vs kkr     911\n",
       "dd vs kxp     805\n",
       "dd vs rr      772\n",
       "kkr vs dd     974\n",
       "kkr vs kxp    699\n",
       "kkr vs rcb    853\n",
       "kkr vs sh     792\n",
       "kxp vs csk    774\n",
       "kxp vs dd     733\n",
       "kxp vs sh     676\n",
       "mi vs csk     835\n",
       "mi vs dd      826\n",
       "mi vs rcb     953\n",
       "mi vs sh      789\n",
       "rcb vs csk    965\n",
       "rcb vs dd     763\n",
       "rcb vs kkr    728\n",
       "rcb vs kxp    843\n",
       "rcb vs mi     772\n",
       "rcb vs rr     820\n",
       "rr vs dd      512\n",
       "rr vs kkr     743\n",
       "rr vs mi      845\n",
       "rr vs sh      731\n",
       "sh vs csk     843\n",
       "sh vs kxp     848\n",
       "sh vs mi      832\n",
       "sh vs rr      634\n",
       "Name: totalPoints, dtype: int64"
      ]
     },
     "execution_count": 26,
     "metadata": {},
     "output_type": "execute_result"
    }
   ],
   "source": [
    "groupby_match_desc.totalPoints.apply(lambda x: x.sort_values(ascending=False)[:11].sum())"
   ]
  },
  {
   "cell_type": "code",
   "execution_count": 27,
   "metadata": {},
   "outputs": [
    {
     "data": {
      "text/plain": [
       "count     32.000000\n",
       "mean     798.281250\n",
       "std       95.731895\n",
       "min      512.000000\n",
       "25%      740.500000\n",
       "50%      804.500000\n",
       "75%      843.500000\n",
       "max      974.000000\n",
       "Name: totalPoints, dtype: float64"
      ]
     },
     "execution_count": 27,
     "metadata": {},
     "output_type": "execute_result"
    }
   ],
   "source": [
    "groupby_match_desc.totalPoints.apply(lambda x: x.sort_values(ascending=False)[:11].sum()).describe()"
   ]
  },
  {
   "cell_type": "markdown",
   "metadata": {},
   "source": [
    "You will score on an average around 800 points"
   ]
  },
  {
   "cell_type": "markdown",
   "metadata": {},
   "source": [
    "### What if picked bottom 11 (worst case scenario)"
   ]
  },
  {
   "cell_type": "code",
   "execution_count": 28,
   "metadata": {},
   "outputs": [
    {
     "data": {
      "text/plain": [
       "matchDesc\n",
       "csk vs dd     241\n",
       "csk vs kkr    295\n",
       "csk vs mi     198\n",
       "csk vs rr     160\n",
       "dd vs kkr     260\n",
       "dd vs kxp     243\n",
       "dd vs rr      200\n",
       "kkr vs dd     280\n",
       "kkr vs kxp    211\n",
       "kkr vs rcb    174\n",
       "kkr vs sh     174\n",
       "kxp vs csk    329\n",
       "kxp vs dd     258\n",
       "kxp vs sh     207\n",
       "mi vs csk     166\n",
       "mi vs dd      412\n",
       "mi vs rcb     283\n",
       "mi vs sh      320\n",
       "rcb vs csk    165\n",
       "rcb vs dd     207\n",
       "rcb vs kkr    342\n",
       "rcb vs kxp    336\n",
       "rcb vs mi     295\n",
       "rcb vs rr     355\n",
       "rr vs dd      245\n",
       "rr vs kkr     200\n",
       "rr vs mi      279\n",
       "rr vs sh      183\n",
       "sh vs csk     229\n",
       "sh vs kxp     188\n",
       "sh vs mi      309\n",
       "sh vs rr      199\n",
       "Name: totalPoints, dtype: int64"
      ]
     },
     "execution_count": 28,
     "metadata": {},
     "output_type": "execute_result"
    }
   ],
   "source": [
    "groupby_match_desc.totalPoints.apply(lambda x: x[x>0].sort_values()[:11].sum())"
   ]
  },
  {
   "cell_type": "code",
   "execution_count": 29,
   "metadata": {},
   "outputs": [
    {
     "data": {
      "text/plain": [
       "count     32.00000\n",
       "mean     248.21875\n",
       "std       65.52012\n",
       "min      160.00000\n",
       "25%      198.75000\n",
       "50%      242.00000\n",
       "75%      295.00000\n",
       "max      412.00000\n",
       "Name: totalPoints, dtype: float64"
      ]
     },
     "execution_count": 29,
     "metadata": {},
     "output_type": "execute_result"
    }
   ],
   "source": [
    "groupby_match_desc.totalPoints.apply(lambda x: x[x>0].sort_values()[:11].sum()).describe()"
   ]
  },
  {
   "cell_type": "markdown",
   "metadata": {},
   "source": [
    "You would end up scoring atleast 250 points"
   ]
  },
  {
   "cell_type": "markdown",
   "metadata": {},
   "source": [
    "### Points by each team in each match"
   ]
  },
  {
   "cell_type": "code",
   "execution_count": 30,
   "metadata": {},
   "outputs": [
    {
     "data": {
      "text/plain": [
       "matchDesc   playerTeam\n",
       "csk vs dd   csk           493\n",
       "            dd            407\n",
       "csk vs kkr  csk           536\n",
       "            kkr           497\n",
       "csk vs mi   csk           375\n",
       "            mi            482\n",
       "csk vs rr   csk           696\n",
       "            rr            377\n",
       "dd vs kkr   dd            684\n",
       "            kkr           332\n",
       "dd vs kxp   dd            564\n",
       "            kxp           484\n",
       "dd vs rr    dd            434\n",
       "            rr            418\n",
       "kkr vs dd   dd            519\n",
       "            kkr           681\n",
       "kkr vs kxp  kkr           302\n",
       "            kxp           436\n",
       "kkr vs rcb  kkr           523\n",
       "            rcb           504\n",
       "kkr vs sh   kkr           382\n",
       "            sh            584\n",
       "kxp vs csk  csk           509\n",
       "            kxp           488\n",
       "kxp vs dd   dd            421\n",
       "            kxp           478\n",
       "kxp vs sh   kxp           439\n",
       "            sh            370\n",
       "mi vs csk   csk           411\n",
       "            mi            557\n",
       "                         ... \n",
       "mi vs sh    mi            481\n",
       "            sh            579\n",
       "rcb vs csk  csk           613\n",
       "            rcb           477\n",
       "rcb vs dd   dd            369\n",
       "            rcb           515\n",
       "rcb vs kkr  kkr           450\n",
       "            rcb           448\n",
       "rcb vs kxp  kxp           428\n",
       "            rcb           587\n",
       "rcb vs mi   mi            439\n",
       "            rcb           531\n",
       "rcb vs rr   rcb           428\n",
       "            rr            511\n",
       "rr vs dd    dd            255\n",
       "            rr            366\n",
       "rr vs kkr   kkr           543\n",
       "            rr            350\n",
       "rr vs mi    mi            494\n",
       "            rr            468\n",
       "rr vs sh    rr            461\n",
       "            sh            453\n",
       "sh vs csk   csk           538\n",
       "            sh            409\n",
       "sh vs kxp   kxp           458\n",
       "            sh            548\n",
       "sh vs mi    mi            605\n",
       "            sh            536\n",
       "sh vs rr    rr            256\n",
       "            sh            516\n",
       "Name: totalPoints, Length: 64, dtype: int64"
      ]
     },
     "execution_count": 30,
     "metadata": {},
     "output_type": "execute_result"
    }
   ],
   "source": [
    "df.groupby(['matchDesc', 'playerTeam']).totalPoints.sum()"
   ]
  }
 ],
 "metadata": {
  "kernelspec": {
   "display_name": "Python 3",
   "language": "python",
   "name": "python3"
  },
  "language_info": {
   "codemirror_mode": {
    "name": "ipython",
    "version": 3
   },
   "file_extension": ".py",
   "mimetype": "text/x-python",
   "name": "python",
   "nbconvert_exporter": "python",
   "pygments_lexer": "ipython3",
   "version": "3.6.4"
  }
 },
 "nbformat": 4,
 "nbformat_minor": 2
}
