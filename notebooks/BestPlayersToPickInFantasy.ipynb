{
 "cells": [
  {
   "cell_type": "markdown",
   "metadata": {},
   "source": [
    "## How do we pick the batsman/bowler for IPL Fantasy \n",
    "\n"
   ]
  },
  {
   "cell_type": "code",
   "execution_count": 1,
   "metadata": {
    "collapsed": true
   },
   "outputs": [],
   "source": [
    "%matplotlib inline\n",
    "\n",
    "import requests\n",
    "import functools\n",
    "import pandas as pd\n",
    "from collections import defaultdict\n",
    "\n",
    "import matplotlib.pyplot as plt\n",
    "import matplotlib\n",
    "import seaborn as sns"
   ]
  },
  {
   "cell_type": "code",
   "execution_count": 2,
   "metadata": {
    "collapsed": true
   },
   "outputs": [],
   "source": [
    "SCORING_URL = \"https://cricketapi.platform.iplt20.com//fixtures/{match_id}/scoring\"\n",
    "IPL_2017_MATCH_IDS = range(5839, 5899)"
   ]
  },
  {
   "cell_type": "code",
   "execution_count": null,
   "metadata": {
    "collapsed": true
   },
   "outputs": [],
   "source": [
    "@functools.lru_cache()\n",
    "def get_match(match_id):\n",
    "    r = requests.get(SCORING_URL.format(match_id=match_id))\n",
    "    return r.json()\n",
    "\n",
    "\n",
    "innings = lambda match_info: match_info['innings']\n",
    "innings_score_card = lambda innings: innings['scorecard']\n",
    "def batting_stats(sc): return sc['battingStats']\n",
    "def bowling_stats(sc): return sc['bowlingStats']\n"
   ]
  },
  {
   "cell_type": "markdown",
   "metadata": {},
   "source": [
    "### Firstly, gather all the stats till now"
   ]
  },
  {
   "cell_type": "code",
   "execution_count": null,
   "metadata": {},
   "outputs": [],
   "source": [
    "stats = defaultdict(list)\n",
    "\n",
    "for match_id in IPL_2017_MATCH_IDS:\n",
    "    match_info = get_match(match_id)\n",
    "\n",
    "    for inning in innings(match_info):\n",
    "        for _func in (batting_stats, bowling_stats):\n",
    "            for i, stat in enumerate(_func(innings_score_card(inning))):\n",
    "                if 'mod' in stat:\n",
    "                    del stat['mod'] # we don't need mode of dismissal for this project\n",
    "\n",
    "                if 'additionalPlayerIds' in stat:\n",
    "                    del stat['additionalPlayerIds']\n",
    "\n",
    "                stat['match_id'] = match_id\n",
    "                stat['position'] = i + 1\n",
    "                stats[_func.__name__].append(stat)\n",
    "\n",
    "\n",
    "print(\"Total batting stats gathered: {}\".format(len(stats['batting_stats'])))\n",
    "print(\"Total bowling_stats stats gathered: {}\".format(len(stats['bowling_stats'])))"
   ]
  },
  {
   "cell_type": "markdown",
   "metadata": {},
   "source": [
    "## Batting Stats"
   ]
  },
  {
   "cell_type": "code",
   "execution_count": null,
   "metadata": {},
   "outputs": [],
   "source": [
    "df = pd.DataFrame(stats['batting_stats'])\n",
    "df.head()"
   ]
  },
  {
   "cell_type": "markdown",
   "metadata": {},
   "source": [
    "Everything looks good!"
   ]
  },
  {
   "cell_type": "markdown",
   "metadata": {},
   "source": [
    "### Distribution of runs scored between top3, middle order and tail"
   ]
  },
  {
   "cell_type": "code",
   "execution_count": null,
   "metadata": {},
   "outputs": [],
   "source": [
    "top_order = range(1, 4)\n",
    "middle_order = range(4, 7)\n",
    "tail = range(7, 12)\n",
    "\n",
    "total_runs_scored = df.r.sum()\n",
    "runs_scored_by_top_order = df[df.position.isin(top_order)].r.sum()\n",
    "runs_scored_middle_order = df[df.position.isin(middle_order)].r.sum()\n",
    "runs_scored_tail = df[df.position.isin(tail)].r.sum()\n",
    "\n",
    "print(\"Total runs scored: {}\".format(total_runs_scored))\n",
    "\n",
    "# sns.set_style('darkgrid')\n",
    "plot = plt.pie([runs_scored_by_top_order, runs_scored_middle_order, runs_scored_tail], \n",
    "               colors=('gold', 'yellowgreen', 'lightcoral'),\n",
    "               labels=['top3', 'middle', 'tail'], \n",
    "               autopct='%1.0f%%')"
   ]
  },
  {
   "cell_type": "markdown",
   "metadata": {},
   "source": [
    "It is nearly an even split between top and middle order. Lets dive deeper..."
   ]
  },
  {
   "cell_type": "code",
   "execution_count": null,
   "metadata": {},
   "outputs": [],
   "source": [
    "positions = df.position.unique()\n",
    "runs = [df[df.position == pos].r.sum() for pos in positions]\n",
    "\n",
    "plot = sns.barplot(x=positions, y=runs)"
   ]
  },
  {
   "cell_type": "markdown",
   "metadata": {},
   "source": [
    "Had you picked the main opener and 2-down you would be well off in scoring the batting points!"
   ]
  },
  {
   "cell_type": "markdown",
   "metadata": {},
   "source": [
    "## Bowling Stats"
   ]
  },
  {
   "cell_type": "code",
   "execution_count": null,
   "metadata": {},
   "outputs": [],
   "source": [
    "df = pd.DataFrame(stats['bowling_stats'])\n",
    "df.head()"
   ]
  },
  {
   "cell_type": "code",
   "execution_count": null,
   "metadata": {},
   "outputs": [],
   "source": [
    "total_wickets = df.w.sum()\n",
    "print(\"Total Wickets taken: {}\".format(total_wickets))"
   ]
  },
  {
   "cell_type": "code",
   "execution_count": null,
   "metadata": {},
   "outputs": [],
   "source": [
    "positions = df.position.unique()\n",
    "wickets = [df[df.position == pos].w.sum() for pos in positions]\n",
    "\n",
    "plot = sns.barplot(x=positions, y=wickets)"
   ]
  },
  {
   "cell_type": "markdown",
   "metadata": {},
   "source": [
    "Again you are better off if you pick the top bowler!"
   ]
  }
 ],
 "metadata": {
  "kernelspec": {
   "display_name": "Python 3",
   "language": "python",
   "name": "python3"
  },
  "language_info": {
   "codemirror_mode": {
    "name": "ipython",
    "version": 3
   },
   "file_extension": ".py",
   "mimetype": "text/x-python",
   "name": "python",
   "nbconvert_exporter": "python",
   "pygments_lexer": "ipython3",
   "version": "3.6.1"
  }
 },
 "nbformat": 4,
 "nbformat_minor": 2
}
