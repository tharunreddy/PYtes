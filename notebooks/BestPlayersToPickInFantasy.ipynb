{
 "cells": [
  {
   "cell_type": "markdown",
   "metadata": {},
   "source": [
    "## How do we pick the batsman/bowler for IPL Fantasy \n",
    "\n"
   ]
  },
  {
   "cell_type": "code",
   "execution_count": 1,
   "metadata": {
    "collapsed": true
   },
   "outputs": [],
   "source": [
    "%matplotlib inline\n",
    "\n",
    "import requests\n",
    "import functools\n",
    "import pandas as pd\n",
    "from collections import defaultdict\n",
    "\n",
    "import matplotlib.pyplot as plt\n",
    "import matplotlib\n",
    "import seaborn as sns"
   ]
  },
  {
   "cell_type": "code",
   "execution_count": 2,
   "metadata": {
    "collapsed": true
   },
   "outputs": [],
   "source": [
    "SCORING_URL = \"https://cricketapi.platform.iplt20.com//fixtures/{match_id}/scoring\"\n",
    "IPL_2017_MATCH_IDS = range(5839, 5899)"
   ]
  },
  {
   "cell_type": "code",
   "execution_count": 3,
   "metadata": {
    "collapsed": true
   },
   "outputs": [],
   "source": [
    "@functools.lru_cache()\n",
    "def get_match(match_id):\n",
    "    r = requests.get(SCORING_URL.format(match_id=match_id))\n",
    "    return r.json()\n",
    "\n",
    "\n",
    "innings = lambda match_info: match_info['innings']\n",
    "innings_score_card = lambda innings: innings['scorecard']\n",
    "def batting_stats(sc): return sc['battingStats']\n",
    "def bowling_stats(sc): return sc['bowlingStats']\n"
   ]
  },
  {
   "cell_type": "markdown",
   "metadata": {},
   "source": [
    "### Firstly, gather all the stats till now"
   ]
  },
  {
   "cell_type": "code",
   "execution_count": 4,
   "metadata": {},
   "outputs": [
    {
     "name": "stdout",
     "output_type": "stream",
     "text": [
      "Total batting stats gathered: 914\n",
      "Total bowling_stats stats gathered: 705\n"
     ]
    }
   ],
   "source": [
    "stats = defaultdict(list)\n",
    "\n",
    "for match_id in IPL_2017_MATCH_IDS:\n",
    "    match_info = get_match(match_id)\n",
    "\n",
    "    for inning in innings(match_info):\n",
    "        for _func in (batting_stats, bowling_stats):\n",
    "            for i, stat in enumerate(_func(innings_score_card(inning))):\n",
    "                if 'mod' in stat:\n",
    "                    del stat['mod'] # we don't need mode of dismissal for this project\n",
    "\n",
    "                if 'additionalPlayerIds' in stat:\n",
    "                    del stat['additionalPlayerIds']\n",
    "\n",
    "                stat['match_id'] = match_id\n",
    "                stat['position'] = i + 1\n",
    "                stats[_func.__name__].append(stat)\n",
    "\n",
    "\n",
    "print(\"Total batting stats gathered: {}\".format(len(stats['batting_stats'])))\n",
    "print(\"Total bowling_stats stats gathered: {}\".format(len(stats['bowling_stats'])))"
   ]
  },
  {
   "cell_type": "markdown",
   "metadata": {},
   "source": [
    "## Batting Stats"
   ]
  },
  {
   "cell_type": "code",
   "execution_count": 5,
   "metadata": {},
   "outputs": [
    {
     "data": {
      "text/html": [
       "<div>\n",
       "<style>\n",
       "    .dataframe thead tr:only-child th {\n",
       "        text-align: right;\n",
       "    }\n",
       "\n",
       "    .dataframe thead th {\n",
       "        text-align: left;\n",
       "    }\n",
       "\n",
       "    .dataframe tbody tr th {\n",
       "        vertical-align: top;\n",
       "    }\n",
       "</style>\n",
       "<table border=\"1\" class=\"dataframe\">\n",
       "  <thead>\n",
       "    <tr style=\"text-align: right;\">\n",
       "      <th></th>\n",
       "      <th>4s</th>\n",
       "      <th>6s</th>\n",
       "      <th>b</th>\n",
       "      <th>match_id</th>\n",
       "      <th>playerId</th>\n",
       "      <th>position</th>\n",
       "      <th>r</th>\n",
       "      <th>sr</th>\n",
       "    </tr>\n",
       "  </thead>\n",
       "  <tbody>\n",
       "    <tr>\n",
       "      <th>0</th>\n",
       "      <td>2</td>\n",
       "      <td>1</td>\n",
       "      <td>8</td>\n",
       "      <td>5839</td>\n",
       "      <td>170</td>\n",
       "      <td>1</td>\n",
       "      <td>14</td>\n",
       "      <td>175.00</td>\n",
       "    </tr>\n",
       "    <tr>\n",
       "      <th>1</th>\n",
       "      <td>5</td>\n",
       "      <td>0</td>\n",
       "      <td>31</td>\n",
       "      <td>5839</td>\n",
       "      <td>41</td>\n",
       "      <td>2</td>\n",
       "      <td>40</td>\n",
       "      <td>129.03</td>\n",
       "    </tr>\n",
       "    <tr>\n",
       "      <th>2</th>\n",
       "      <td>3</td>\n",
       "      <td>2</td>\n",
       "      <td>37</td>\n",
       "      <td>5839</td>\n",
       "      <td>388</td>\n",
       "      <td>3</td>\n",
       "      <td>52</td>\n",
       "      <td>140.54</td>\n",
       "    </tr>\n",
       "    <tr>\n",
       "      <th>3</th>\n",
       "      <td>7</td>\n",
       "      <td>3</td>\n",
       "      <td>27</td>\n",
       "      <td>5839</td>\n",
       "      <td>113</td>\n",
       "      <td>4</td>\n",
       "      <td>62</td>\n",
       "      <td>229.62</td>\n",
       "    </tr>\n",
       "    <tr>\n",
       "      <th>4</th>\n",
       "      <td>0</td>\n",
       "      <td>1</td>\n",
       "      <td>12</td>\n",
       "      <td>5839</td>\n",
       "      <td>1556</td>\n",
       "      <td>5</td>\n",
       "      <td>16</td>\n",
       "      <td>133.33</td>\n",
       "    </tr>\n",
       "  </tbody>\n",
       "</table>\n",
       "</div>"
      ],
      "text/plain": [
       "   4s  6s   b  match_id  playerId  position   r      sr\n",
       "0   2   1   8      5839       170         1  14  175.00\n",
       "1   5   0  31      5839        41         2  40  129.03\n",
       "2   3   2  37      5839       388         3  52  140.54\n",
       "3   7   3  27      5839       113         4  62  229.62\n",
       "4   0   1  12      5839      1556         5  16  133.33"
      ]
     },
     "execution_count": 5,
     "metadata": {},
     "output_type": "execute_result"
    }
   ],
   "source": [
    "df_batting = pd.DataFrame(stats['batting_stats'])\n",
    "df_batting.head()"
   ]
  },
  {
   "cell_type": "markdown",
   "metadata": {},
   "source": [
    "Everything looks good!"
   ]
  },
  {
   "cell_type": "markdown",
   "metadata": {},
   "source": [
    "### Distribution of runs scored between top3, middle order and tail"
   ]
  },
  {
   "cell_type": "code",
   "execution_count": 6,
   "metadata": {},
   "outputs": [
    {
     "name": "stdout",
     "output_type": "stream",
     "text": [
      "Total runs scored: 17907\n"
     ]
    },
    {
     "data": {
      "image/png": "[encoded data removed]",
      "text/plain": [
       "<matplotlib.figure.Figure at 0x108a24b00>"
      ]
     },
     "metadata": {},
     "output_type": "display_data"
    }
   ],
   "source": [
    "top_order = range(1, 4)\n",
    "middle_order = range(4, 7)\n",
    "tail = range(7, 12)\n",
    "\n",
    "total_runs_scored = df_batting.r.sum()\n",
    "runs_scored_by_top_order = df_batting[df_batting.position.isin(top_order)].r.sum()\n",
    "runs_scored_middle_order = df_batting[df_batting.position.isin(middle_order)].r.sum()\n",
    "runs_scored_tail = df_batting[df_batting.position.isin(tail)].r.sum()\n",
    "\n",
    "print(\"Total runs scored: {}\".format(total_runs_scored))\n",
    "\n",
    "# sns.set_style('darkgrid')\n",
    "plot = plt.pie([runs_scored_by_top_order, runs_scored_middle_order, runs_scored_tail], \n",
    "               colors=('gold', 'yellowgreen', 'lightcoral'),\n",
    "               labels=['top3', 'middle', 'tail'], \n",
    "               autopct='%1.0f%%')"
   ]
  },
  {
   "cell_type": "markdown",
   "metadata": {},
   "source": [
    "It is nearly an even split between top and middle order. Lets dive deeper..."
   ]
  },
  {
   "cell_type": "code",
   "execution_count": 7,
   "metadata": {},
   "outputs": [
    {
     "data": {
      "image/png": "[encoded data removed]",
      "text/plain": [
       "<matplotlib.figure.Figure at 0x10dff8ac8>"
      ]
     },
     "metadata": {},
     "output_type": "display_data"
    }
   ],
   "source": [
    "positions = df_batting.position.unique()\n",
    "runs = [df_batting[df_batting.position == pos].r.sum() for pos in positions]\n",
    "\n",
    "plot = sns.barplot(x=positions, y=runs)"
   ]
  },
  {
   "cell_type": "markdown",
   "metadata": {},
   "source": [
    "Had you picked the main opener and 2-down you would be well off in scoring the batting points!"
   ]
  },
  {
   "cell_type": "markdown",
   "metadata": {},
   "source": [
    "## Bowling Stats"
   ]
  },
  {
   "cell_type": "code",
   "execution_count": 8,
   "metadata": {},
   "outputs": [
    {
     "data": {
      "text/html": [
       "<div>\n",
       "<style>\n",
       "    .dataframe thead tr:only-child th {\n",
       "        text-align: right;\n",
       "    }\n",
       "\n",
       "    .dataframe thead th {\n",
       "        text-align: left;\n",
       "    }\n",
       "\n",
       "    .dataframe tbody tr th {\n",
       "        vertical-align: top;\n",
       "    }\n",
       "</style>\n",
       "<table border=\"1\" class=\"dataframe\">\n",
       "  <thead>\n",
       "    <tr style=\"text-align: right;\">\n",
       "      <th></th>\n",
       "      <th>d</th>\n",
       "      <th>e</th>\n",
       "      <th>maid</th>\n",
       "      <th>match_id</th>\n",
       "      <th>nb</th>\n",
       "      <th>ov</th>\n",
       "      <th>playerId</th>\n",
       "      <th>position</th>\n",
       "      <th>r</th>\n",
       "      <th>w</th>\n",
       "      <th>wd</th>\n",
       "    </tr>\n",
       "  </thead>\n",
       "  <tbody>\n",
       "    <tr>\n",
       "      <th>0</th>\n",
       "      <td>11</td>\n",
       "      <td>7.75</td>\n",
       "      <td>0</td>\n",
       "      <td>5839</td>\n",
       "      <td>0</td>\n",
       "      <td>4</td>\n",
       "      <td>3319</td>\n",
       "      <td>1</td>\n",
       "      <td>31</td>\n",
       "      <td>1</td>\n",
       "      <td>1</td>\n",
       "    </tr>\n",
       "    <tr>\n",
       "      <th>1</th>\n",
       "      <td>5</td>\n",
       "      <td>13.75</td>\n",
       "      <td>0</td>\n",
       "      <td>5839</td>\n",
       "      <td>1</td>\n",
       "      <td>4</td>\n",
       "      <td>1111</td>\n",
       "      <td>2</td>\n",
       "      <td>55</td>\n",
       "      <td>1</td>\n",
       "      <td>3</td>\n",
       "    </tr>\n",
       "    <tr>\n",
       "      <th>2</th>\n",
       "      <td>5</td>\n",
       "      <td>5.50</td>\n",
       "      <td>0</td>\n",
       "      <td>5839</td>\n",
       "      <td>0</td>\n",
       "      <td>4</td>\n",
       "      <td>111</td>\n",
       "      <td>3</td>\n",
       "      <td>22</td>\n",
       "      <td>1</td>\n",
       "      <td>0</td>\n",
       "    </tr>\n",
       "    <tr>\n",
       "      <th>3</th>\n",
       "      <td>2</td>\n",
       "      <td>12.00</td>\n",
       "      <td>0</td>\n",
       "      <td>5839</td>\n",
       "      <td>0</td>\n",
       "      <td>3</td>\n",
       "      <td>162</td>\n",
       "      <td>4</td>\n",
       "      <td>36</td>\n",
       "      <td>0</td>\n",
       "      <td>0</td>\n",
       "    </tr>\n",
       "    <tr>\n",
       "      <th>4</th>\n",
       "      <td>3</td>\n",
       "      <td>13.66</td>\n",
       "      <td>0</td>\n",
       "      <td>5839</td>\n",
       "      <td>0</td>\n",
       "      <td>3</td>\n",
       "      <td>227</td>\n",
       "      <td>5</td>\n",
       "      <td>41</td>\n",
       "      <td>0</td>\n",
       "      <td>0</td>\n",
       "    </tr>\n",
       "  </tbody>\n",
       "</table>\n",
       "</div>"
      ],
      "text/plain": [
       "    d      e  maid  match_id  nb ov  playerId  position   r  w  wd\n",
       "0  11   7.75     0      5839   0  4      3319         1  31  1   1\n",
       "1   5  13.75     0      5839   1  4      1111         2  55  1   3\n",
       "2   5   5.50     0      5839   0  4       111         3  22  1   0\n",
       "3   2  12.00     0      5839   0  3       162         4  36  0   0\n",
       "4   3  13.66     0      5839   0  3       227         5  41  0   0"
      ]
     },
     "execution_count": 8,
     "metadata": {},
     "output_type": "execute_result"
    }
   ],
   "source": [
    "df_bowling = pd.DataFrame(stats['bowling_stats'])\n",
    "df_bowling.head()"
   ]
  },
  {
   "cell_type": "code",
   "execution_count": 9,
   "metadata": {},
   "outputs": [
    {
     "name": "stdout",
     "output_type": "stream",
     "text": [
      "Total Wickets taken: 650\n"
     ]
    }
   ],
   "source": [
    "total_wickets = df_bowling.w.sum()\n",
    "print(\"Total Wickets taken: {}\".format(total_wickets))"
   ]
  },
  {
   "cell_type": "code",
   "execution_count": 9,
   "metadata": {},
   "outputs": [
    {
     "data": {
      "image/png": "[encoded data removed]",
      "text/plain": [
       "<matplotlib.figure.Figure at 0x117b250b8>"
      ]
     },
     "metadata": {},
     "output_type": "display_data"
    }
   ],
   "source": [
    "positions = df_bowling.position.unique()\n",
    "wickets = [df_bowling[df_bowling.position == pos].w.sum() for pos in positions]\n",
    "\n",
    "plot = sns.barplot(x=positions, y=wickets)"
   ]
  },
  {
   "cell_type": "markdown",
   "metadata": {},
   "source": [
    "Again you are better off if you pick the top bowler!"
   ]
  },
  {
   "cell_type": "code",
   "execution_count": 20,
   "metadata": {},
   "outputs": [
    {
     "name": "stdout",
     "output_type": "stream",
     "text": [
      "Total Players: 160\n",
      "Total Allrounders: 91\n"
     ]
    }
   ],
   "source": [
    "all_rounders_ids = set(df_batting.playerId) & set(df_bowling.playerId)\n",
    "total_players_ids = set(df_batting.playerId) | set(df_bowling.playerId)\n",
    "\n",
    "print(\"Total Players: {}\".format(len(total_players_ids)))\n",
    "print(\"Total Allrounders: {}\".format(len(all_rounders_ids)))"
   ]
  },
  {
   "cell_type": "code",
   "execution_count": 23,
   "metadata": {},
   "outputs": [
    {
     "name": "stdout",
     "output_type": "stream",
     "text": [
      "Total runs by Allrounders: 5983\n",
      "Average run scored by each all rounder: 65.74725274725274\n"
     ]
    }
   ],
   "source": [
    "batting_by_allrounders = df_batting[df_batting.playerId.isin(all_rounders)]\n",
    "print(\"Total runs by Allrounders: {}\".format(batting_by_allrounders.r.sum()))\n",
    "print(\"Average run scored by each all rounder: {}\".format(batting_by_allrounders.r.sum()/len(all_rounders_ids)))"
   ]
  },
  {
   "cell_type": "code",
   "execution_count": null,
   "metadata": {
    "collapsed": true
   },
   "outputs": [],
   "source": []
  }
 ],
 "metadata": {
  "kernelspec": {
   "display_name": "Python 3",
   "language": "python",
   "name": "python3"
  },
  "language_info": {
   "codemirror_mode": {
    "name": "ipython",
    "version": 3
   },
   "file_extension": ".py",
   "mimetype": "text/x-python",
   "name": "python",
   "nbconvert_exporter": "python",
   "pygments_lexer": "ipython3",
   "version": "3.6.4"
  }
 },
 "nbformat": 4,
 "nbformat_minor": 2
}
