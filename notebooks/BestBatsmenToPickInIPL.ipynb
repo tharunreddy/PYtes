{
 "cells": [
  {
   "cell_type": "markdown",
   "metadata": {},
   "source": [
    "## How do we pick the batsman for IPL Fantasy"
   ]
  },
  {
   "cell_type": "code",
   "execution_count": 112,
   "metadata": {
    "collapsed": true
   },
   "outputs": [],
   "source": [
    "%matplotlib inline\n",
    "\n",
    "import requests\n",
    "import functools\n",
    "import pandas as pd\n",
    "\n",
    "import matplotlib.pyplot as plt\n",
    "import matplotlib\n",
    "import seaborn as sns"
   ]
  },
  {
   "cell_type": "code",
   "execution_count": 113,
   "metadata": {
    "collapsed": true
   },
   "outputs": [],
   "source": [
    "SCORING_URL = \"https://cricketapi.platform.iplt20.com//fixtures/{match_id}/scoring\"\n",
    "ALL_MATCH_IDS = range(7894, 7916)"
   ]
  },
  {
   "cell_type": "code",
   "execution_count": 114,
   "metadata": {},
   "outputs": [],
   "source": [
    "@functools.lru_cache()\n",
    "def get_match(match_id):\n",
    "    r = requests.get(SCORING_URL.format(match_id=match_id))\n",
    "    return r.json()\n",
    "\n",
    "\n",
    "innings = lambda match_info: match_info['innings']\n",
    "innings_score_card = lambda innings: innings['scorecard']\n",
    "batting_stats = lambda sc: sc['battingStats']\n"
   ]
  },
  {
   "cell_type": "markdown",
   "metadata": {},
   "source": [
    "### Firstly, gather all the stats till now"
   ]
  },
  {
   "cell_type": "code",
   "execution_count": 124,
   "metadata": {},
   "outputs": [
    {
     "name": "stdout",
     "output_type": "stream",
     "text": [
      "Total batting stats gathered: 347\n"
     ]
    }
   ],
   "source": [
    "stats = []\n",
    "\n",
    "for match_id in ALL_MATCH_IDS:\n",
    "    match_info = get_match(match_id)\n",
    "\n",
    "    for inning in innings(match_info):\n",
    "        for i, stat in enumerate(batting_stats(innings_score_card(inning))):\n",
    "            if 'mod' in stat:\n",
    "                del stat['mod'] # we don't need mode of dismissal for this project\n",
    "            \n",
    "            if 'additionalPlayerIds' in stat:\n",
    "                del stat['additionalPlayerIds']\n",
    "\n",
    "            stat['match_id'] = match_id\n",
    "            stat['position'] = i + 1\n",
    "            stats.append(stat)\n",
    "\n",
    "print(\"Total batting stats gathered: {}\".format(len(stats)))"
   ]
  },
  {
   "cell_type": "markdown",
   "metadata": {},
   "source": [
    "Now lets convert it to a Dataframe and visualize the top 5 items. "
   ]
  },
  {
   "cell_type": "code",
   "execution_count": 125,
   "metadata": {},
   "outputs": [
    {
     "data": {
      "text/html": [
       "<div>\n",
       "<style>\n",
       "    .dataframe thead tr:only-child th {\n",
       "        text-align: right;\n",
       "    }\n",
       "\n",
       "    .dataframe thead th {\n",
       "        text-align: left;\n",
       "    }\n",
       "\n",
       "    .dataframe tbody tr th {\n",
       "        vertical-align: top;\n",
       "    }\n",
       "</style>\n",
       "<table border=\"1\" class=\"dataframe\">\n",
       "  <thead>\n",
       "    <tr style=\"text-align: right;\">\n",
       "      <th></th>\n",
       "      <th>4s</th>\n",
       "      <th>6s</th>\n",
       "      <th>b</th>\n",
       "      <th>match_id</th>\n",
       "      <th>playerId</th>\n",
       "      <th>position</th>\n",
       "      <th>r</th>\n",
       "      <th>sr</th>\n",
       "    </tr>\n",
       "  </thead>\n",
       "  <tbody>\n",
       "    <tr>\n",
       "      <th>0</th>\n",
       "      <td>1</td>\n",
       "      <td>1</td>\n",
       "      <td>18</td>\n",
       "      <td>7894</td>\n",
       "      <td>107</td>\n",
       "      <td>1</td>\n",
       "      <td>15</td>\n",
       "      <td>83.33</td>\n",
       "    </tr>\n",
       "    <tr>\n",
       "      <th>1</th>\n",
       "      <td>0</td>\n",
       "      <td>0</td>\n",
       "      <td>2</td>\n",
       "      <td>7894</td>\n",
       "      <td>872</td>\n",
       "      <td>2</td>\n",
       "      <td>0</td>\n",
       "      <td>0.00</td>\n",
       "    </tr>\n",
       "    <tr>\n",
       "      <th>2</th>\n",
       "      <td>4</td>\n",
       "      <td>1</td>\n",
       "      <td>29</td>\n",
       "      <td>7894</td>\n",
       "      <td>2975</td>\n",
       "      <td>3</td>\n",
       "      <td>40</td>\n",
       "      <td>137.93</td>\n",
       "    </tr>\n",
       "    <tr>\n",
       "      <th>3</th>\n",
       "      <td>6</td>\n",
       "      <td>1</td>\n",
       "      <td>29</td>\n",
       "      <td>7894</td>\n",
       "      <td>108</td>\n",
       "      <td>4</td>\n",
       "      <td>43</td>\n",
       "      <td>148.27</td>\n",
       "    </tr>\n",
       "    <tr>\n",
       "      <th>4</th>\n",
       "      <td>2</td>\n",
       "      <td>0</td>\n",
       "      <td>20</td>\n",
       "      <td>7894</td>\n",
       "      <td>2740</td>\n",
       "      <td>5</td>\n",
       "      <td>22</td>\n",
       "      <td>110.00</td>\n",
       "    </tr>\n",
       "  </tbody>\n",
       "</table>\n",
       "</div>"
      ],
      "text/plain": [
       "   4s  6s   b  match_id  playerId  position   r      sr\n",
       "0   1   1  18      7894       107         1  15   83.33\n",
       "1   0   0   2      7894       872         2   0    0.00\n",
       "2   4   1  29      7894      2975         3  40  137.93\n",
       "3   6   1  29      7894       108         4  43  148.27\n",
       "4   2   0  20      7894      2740         5  22  110.00"
      ]
     },
     "execution_count": 125,
     "metadata": {},
     "output_type": "execute_result"
    }
   ],
   "source": [
    "df = pd.DataFrame(stats)\n",
    "df.head()"
   ]
  },
  {
   "cell_type": "markdown",
   "metadata": {},
   "source": [
    "Everything looks good!"
   ]
  },
  {
   "cell_type": "markdown",
   "metadata": {},
   "source": [
    "### Distribution of runs scored between top3, middle order and tail"
   ]
  },
  {
   "cell_type": "code",
   "execution_count": 126,
   "metadata": {},
   "outputs": [
    {
     "name": "stdout",
     "output_type": "stream",
     "text": [
      "Total runs scored: 7067\n"
     ]
    },
    {
     "data": {
      "image/png": "[encoded data removed]",
      "text/plain": [
       "<matplotlib.figure.Figure at 0x1189b59e8>"
      ]
     },
     "metadata": {},
     "output_type": "display_data"
    }
   ],
   "source": [
    "top_3 = range(1, 4)\n",
    "middle_order = range(4, 8)\n",
    "tail = range(8, 12)\n",
    "\n",
    "total_runs_scored = df.r.sum()\n",
    "runs_scored_by_top_3 = df[df.position.isin(top_3)].r.sum()\n",
    "runs_scored_middle_order = df[df.position.isin(middle_order)].r.sum()\n",
    "runs_scored_tail = df[df.position.isin(tail)].r.sum()\n",
    "\n",
    "print(\"Total runs scored: {}\".format(total_runs_scored))\n",
    "\n",
    "# sns.set_style('darkgrid')\n",
    "plot = plt.pie([runs_scored_by_top_3, runs_scored_middle_order, runs_scored_tail], \n",
    "               colors=('gold', 'yellowgreen', 'lightcoral'),\n",
    "               labels=['top3', 'middle', 'tail'], \n",
    "               autopct='%1.0f%%')"
   ]
  },
  {
   "cell_type": "markdown",
   "metadata": {},
   "source": [
    "It is nearly an even split between top and middle order. Lets dive deeper..."
   ]
  },
  {
   "cell_type": "code",
   "execution_count": 127,
   "metadata": {},
   "outputs": [
    {
     "data": {
      "image/png": "[encoded data removed]",
      "text/plain": [
       "<matplotlib.figure.Figure at 0x118deff98>"
      ]
     },
     "metadata": {},
     "output_type": "display_data"
    }
   ],
   "source": [
    "positions = df.position.unique()\n",
    "runs = []\n",
    "for pos in positions:\n",
    "    runs.append(df[df.position == pos].r.sum())\n",
    "\n",
    "plot = sns.barplot(x=positions, y=runs)"
   ]
  },
  {
   "cell_type": "markdown",
   "metadata": {},
   "source": [
    "Had you picked the main opener and 2-down you would be well off in scoring the batting points!"
   ]
  }
 ],
 "metadata": {
  "kernelspec": {
   "display_name": "Python 3",
   "language": "python",
   "name": "python3"
  },
  "language_info": {
   "codemirror_mode": {
    "name": "ipython",
    "version": 3
   },
   "file_extension": ".py",
   "mimetype": "text/x-python",
   "name": "python",
   "nbconvert_exporter": "python",
   "pygments_lexer": "ipython3",
   "version": "3.6.1"
  }
 },
 "nbformat": 4,
 "nbformat_minor": 2
}
